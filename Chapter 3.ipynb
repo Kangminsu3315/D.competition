{
 "cells": [
  {
   "cell_type": "code",
   "execution_count": 1,
   "metadata": {},
   "outputs": [],
   "source": [
    "import torch\n",
    "import torch.nn as nn\n",
    "import torch.nn.functional as F\n",
    "import torch.optim as optim"
   ]
  },
  {
   "cell_type": "code",
   "execution_count": 7,
   "metadata": {},
   "outputs": [
    {
     "name": "stdout",
     "output_type": "stream",
     "text": [
      "tensor([0.0900, 0.2447, 0.6652])\n"
     ]
    }
   ],
   "source": [
    "#softmax 부드럽게 맥스를 뽑는다? 교수가 뭐라 씨부리는지 잘 모르겠음\n",
    "#softmax는 (시그마 e의 i승) 분에 (e의 i승)임.전체 합이 1이라서 확률로 볼 수 있음.\n",
    "z= torch.FloatTensor([1,2,3])\n",
    "hypothesis= F.softmax(z,dim=0)\n",
    "\n",
    "print(hypothesis)\n"
   ]
  },
  {
   "cell_type": "code",
   "execution_count": 18,
   "metadata": {},
   "outputs": [
    {
     "name": "stdout",
     "output_type": "stream",
     "text": [
      "tensor([[0.4616, 0.4247, 0.8995, 0.9913, 0.3057],\n",
      "        [0.5389, 0.7175, 0.2800, 0.5472, 0.8061],\n",
      "        [0.2856, 0.0961, 0.5842, 0.1073, 0.0111]], requires_grad=True)\n",
      "tensor([[0.1648, 0.1588, 0.2554, 0.2799, 0.1410],\n",
      "        [0.1893, 0.2263, 0.1461, 0.1909, 0.2473],\n",
      "        [0.2096, 0.1734, 0.2825, 0.1753, 0.1593]], grad_fn=<SoftmaxBackward0>)\n"
     ]
    }
   ],
   "source": [
    "#cross entropy 두개의 확률분포가 얼마나 비슷한지에 관한 수치. 최소화할수록 좋음. \n",
    "# 함수가 -시그마P(X)*log Q(x)꼴로 생김. P(x)는 원래 확률, Q(x)는 우리가 가진 확률.\n",
    "z=torch.rand(3,5,requires_grad=True)#z를 3,5크기의 랜덤한 값을 가진 행렬로 할당\n",
    "print(z)\n",
    "hypothesis=F.softmax(z,dim=1)#z를 행에 대해서 소프트맥스\n",
    "print(hypothesis)\n",
    "#class=5 samples=3"
   ]
  },
  {
   "cell_type": "code",
   "execution_count": 23,
   "metadata": {},
   "outputs": [
    {
     "name": "stdout",
     "output_type": "stream",
     "text": [
      "tensor([0, 1, 4])\n"
     ]
    }
   ],
   "source": [
    "y=torch.randint(5,(3,)).long()#class가 다섯개니까 5개 중에서 3개 무작위 선택해서 정답 만들기\n",
    "print(y)"
   ]
  },
  {
   "cell_type": "code",
   "execution_count": 27,
   "metadata": {},
   "outputs": [
    {
     "name": "stdout",
     "output_type": "stream",
     "text": [
      "tensor([[1., 0., 0., 0., 0.],\n",
      "        [0., 1., 0., 0., 0.],\n",
      "        [0., 0., 0., 0., 1.]])\n"
     ]
    }
   ],
   "source": [
    "y_one_hot= torch.zeros_like(hypothesis)#hypothesis와 같은 크기의 영으로 찬 행렬 할당\n",
    "y_one_hot.scatter_(1,y.unsqueeze(1),1)#y.unsqueeze(1)는 y의 크기가 (3,)이므로 (3,1)로 만듬. _(언더바)연산이라 그대로 할당\n",
    "            #dim=1. 즉, 행에서 y에 따라 1을 뿌려라\n",
    "print(y_one_hot)"
   ]
  },
  {
   "cell_type": "code",
   "execution_count": 29,
   "metadata": {},
   "outputs": [
    {
     "name": "stdout",
     "output_type": "stream",
     "text": [
      "tensor(1.7086, grad_fn=<MeanBackward0>)\n",
      "tensor([[1.8029, 0.0000, 0.0000, 0.0000, 0.0000],\n",
      "        [0.0000, 1.4857, 0.0000, 0.0000, 0.0000],\n",
      "        [0.0000, 0.0000, 0.0000, 0.0000, 1.8373]], grad_fn=<MulBackward0>)\n"
     ]
    }
   ],
   "source": [
    "cost= (y_one_hot*-torch.log(hypothesis)).sum(dim=1).mean()#비용은 cross entropy 평균임\n",
    "#이때 y_one_hot과 hypothesis의 크기가 같아 matmul이 아니라 mul이 이루어짐.\n",
    "print(cost)\n"
   ]
  },
  {
   "cell_type": "code",
   "execution_count": 30,
   "metadata": {},
   "outputs": [
    {
     "data": {
      "text/plain": [
       "tensor(1.7086, grad_fn=<NllLossBackward0>)"
      ]
     },
     "execution_count": 30,
     "metadata": {},
     "output_type": "execute_result"
    }
   ],
   "source": [
    "#다양하게 구현하기\n",
    "#low level\n",
    "torch.log(F.softmax(z,dim=1))#Q(x)에 소프트맥스 씌우고 로그 취한거\n",
    "#high level\n",
    "F.log_softmax(z,dim=1)#상동\n",
    "\n",
    "#비용 즉, cross entropy loss 다양하게 구현하기\n",
    "#low level\n",
    "(y_one_hot*-torch.log(hypothesis)).sum(dim=1).mean()\n",
    "#high level\n",
    "F.nll_loss(F.log_softmax(z,dim=1),y)\n",
    "#사실 이게 제일 편해보임\n",
    "F.cross_entropy(z,y)"
   ]
  },
  {
   "cell_type": "code",
   "execution_count": 31,
   "metadata": {},
   "outputs": [],
   "source": [
    "#구현부분\n",
    "x_train = [[1, 2, 1, 1],\n",
    "           [2, 1, 3, 2],\n",
    "           [3, 1, 3, 4],\n",
    "           [4, 1, 5, 5],\n",
    "           [1, 7, 5, 5],\n",
    "           [1, 2, 5, 6],\n",
    "           [1, 6, 6, 6],\n",
    "           [1, 7, 7, 7]]#x의 크기8,4\n",
    "y_train = [2, 2, 2, 1, 1, 1, 0, 0]#y의 크기 8. 그냥 가짓수가 많은 logistic regression이라고 생각하면 될듯.\n",
    "x_train = torch.FloatTensor(x_train)\n",
    "y_train = torch.LongTensor(y_train)\n"
   ]
  },
  {
   "cell_type": "code",
   "execution_count": 38,
   "metadata": {},
   "outputs": [
    {
     "name": "stdout",
     "output_type": "stream",
     "text": [
      "Epoch    0/1000 Cost: 1.098612\n",
      "Epoch  100/1000 Cost: 0.901535\n",
      "Epoch  200/1000 Cost: 0.839114\n",
      "Epoch  300/1000 Cost: 0.807826\n",
      "Epoch  400/1000 Cost: 0.788472\n",
      "Epoch  500/1000 Cost: 0.774822\n",
      "Epoch  600/1000 Cost: 0.764449\n",
      "Epoch  700/1000 Cost: 0.756191\n",
      "Epoch  800/1000 Cost: 0.749398\n",
      "Epoch  900/1000 Cost: 0.743671\n",
      "Epoch 1000/1000 Cost: 0.738749\n"
     ]
    }
   ],
   "source": [
    "# low level cross entropy\n",
    "# 모델 초기화\n",
    "W = torch.zeros((4, 3), requires_grad=True)#w의 크기 4,3. \n",
    "b = torch.zeros(1, requires_grad=True)\n",
    "# optimizer 설정\n",
    "optimizer = optim.SGD([W, b], lr=0.1)\n",
    "\n",
    "nb_epochs = 1000\n",
    "for epoch in range(nb_epochs + 1):\n",
    "\n",
    "    # Cost 계산 (1)\n",
    "    hypothesis = F.softmax(x_train.matmul(W) + b, dim=1) #크기 8,3\n",
    "    y_one_hot = torch.zeros_like(hypothesis) #크기 8,3인 원핫벡터 만들기\n",
    "    y_one_hot.scatter_(1, y_train.unsqueeze(1), 1)#y_train의 크기가 8,1로 바뀜.\n",
    "    cost = (y_one_hot * -torch.log(F.softmax(hypothesis, dim=1))).sum(dim=1).mean()\n",
    "\n",
    "    # cost로 H(x) 개선\n",
    "    optimizer.zero_grad()\n",
    "    cost.backward()\n",
    "    optimizer.step()\n",
    "\n",
    "    # 100번마다 로그 출력\n",
    "    if epoch % 100 == 0:\n",
    "        print('Epoch {:4d}/{} Cost: {:.6f}'.format(\n",
    "            epoch, nb_epochs, cost.item()\n",
    "        ))"
   ]
  },
  {
   "cell_type": "code",
   "execution_count": 39,
   "metadata": {},
   "outputs": [
    {
     "name": "stdout",
     "output_type": "stream",
     "text": [
      "Epoch    0/1000 Cost: 1.098612\n",
      "Epoch  100/1000 Cost: 0.761050\n",
      "Epoch  200/1000 Cost: 0.689991\n",
      "Epoch  300/1000 Cost: 0.643229\n",
      "Epoch  400/1000 Cost: 0.604117\n",
      "Epoch  500/1000 Cost: 0.568256\n",
      "Epoch  600/1000 Cost: 0.533922\n",
      "Epoch  700/1000 Cost: 0.500291\n",
      "Epoch  800/1000 Cost: 0.466908\n",
      "Epoch  900/1000 Cost: 0.433507\n",
      "Epoch 1000/1000 Cost: 0.399962\n"
     ]
    }
   ],
   "source": [
    "#F.cross_entropy 함수 활용\n",
    "# 모델 초기화\n",
    "W = torch.zeros((4, 3), requires_grad=True)\n",
    "b = torch.zeros(1, requires_grad=True)\n",
    "# optimizer 설정\n",
    "optimizer = optim.SGD([W, b], lr=0.1)\n",
    "\n",
    "nb_epochs = 1000\n",
    "for epoch in range(nb_epochs + 1):\n",
    "\n",
    "    # Cost 계산 (2)\n",
    "    z = x_train.matmul(W) + b # or .mm or @\n",
    "    cost = F.cross_entropy(z, y_train)\n",
    "\n",
    "    # cost로 H(x) 개선\n",
    "    optimizer.zero_grad()\n",
    "    cost.backward()\n",
    "    optimizer.step()\n",
    "\n",
    "    # 100번마다 로그 출력\n",
    "    if epoch % 100 == 0:\n",
    "        print('Epoch {:4d}/{} Cost: {:.6f}'.format(\n",
    "            epoch, nb_epochs, cost.item()\n",
    "        ))"
   ]
  },
  {
   "cell_type": "code",
   "execution_count": 40,
   "metadata": {},
   "outputs": [],
   "source": [
    "#nn.module 활용\n",
    "class SoftmaxClassifierModel(nn.Module):\n",
    "    def __init__(self):\n",
    "        super().__init__()\n",
    "        self.linear = nn.Linear(4, 3) # Output이 3!\n",
    "\n",
    "    def forward(self, x):\n",
    "        return self.linear(x)\n",
    "model = SoftmaxClassifierModel()"
   ]
  },
  {
   "cell_type": "code",
   "execution_count": 41,
   "metadata": {},
   "outputs": [
    {
     "name": "stdout",
     "output_type": "stream",
     "text": [
      "Epoch    0/1000 Cost: 4.188795\n",
      "Epoch  100/1000 Cost: 0.639374\n",
      "Epoch  200/1000 Cost: 0.552567\n",
      "Epoch  300/1000 Cost: 0.498374\n",
      "Epoch  400/1000 Cost: 0.454453\n",
      "Epoch  500/1000 Cost: 0.415336\n",
      "Epoch  600/1000 Cost: 0.378612\n",
      "Epoch  700/1000 Cost: 0.342749\n",
      "Epoch  800/1000 Cost: 0.306616\n",
      "Epoch  900/1000 Cost: 0.270080\n",
      "Epoch 1000/1000 Cost: 0.241863\n"
     ]
    }
   ],
   "source": [
    "# optimizer 설정\n",
    "optimizer = optim.SGD(model.parameters(), lr=0.1)\n",
    "\n",
    "nb_epochs = 1000\n",
    "for epoch in range(nb_epochs + 1):\n",
    "\n",
    "    # H(x) 계산\n",
    "    prediction = model(x_train)\n",
    "\n",
    "    # cost 계산\n",
    "    cost = F.cross_entropy(prediction, y_train)\n",
    "\n",
    "    # cost로 H(x) 개선\n",
    "    optimizer.zero_grad()\n",
    "    cost.backward()\n",
    "    optimizer.step()\n",
    "    \n",
    "    # 20번마다 로그 출력\n",
    "    if epoch % 100 == 0:\n",
    "        print('Epoch {:4d}/{} Cost: {:.6f}'.format(\n",
    "            epoch, nb_epochs, cost.item()\n",
    "        ))"
   ]
  },
  {
   "cell_type": "code",
   "execution_count": null,
   "metadata": {},
   "outputs": [],
   "source": []
  }
 ],
 "metadata": {
  "kernelspec": {
   "display_name": "Python 3.9.10 64-bit",
   "language": "python",
   "name": "python3"
  },
  "language_info": {
   "codemirror_mode": {
    "name": "ipython",
    "version": 3
   },
   "file_extension": ".py",
   "mimetype": "text/x-python",
   "name": "python",
   "nbconvert_exporter": "python",
   "pygments_lexer": "ipython3",
   "version": "3.9.10"
  },
  "orig_nbformat": 4,
  "vscode": {
   "interpreter": {
    "hash": "152fa9055cb5915be2de7d146b090e6821134620912f91daec7e1f67fbf8fe74"
   }
  }
 },
 "nbformat": 4,
 "nbformat_minor": 2
}
